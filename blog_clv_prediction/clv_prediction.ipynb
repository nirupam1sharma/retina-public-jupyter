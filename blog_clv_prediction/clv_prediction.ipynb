{
 "cells": [
  {
   "cell_type": "markdown",
   "metadata": {},
   "source": [
    "# Data"
   ]
  },
  {
   "cell_type": "code",
   "execution_count": 17,
   "metadata": {
    "scrolled": true
   },
   "outputs": [
    {
     "data": {
      "text/html": [
       "<div>\n",
       "<style scoped>\n",
       "    .dataframe tbody tr th:only-of-type {\n",
       "        vertical-align: middle;\n",
       "    }\n",
       "\n",
       "    .dataframe tbody tr th {\n",
       "        vertical-align: top;\n",
       "    }\n",
       "\n",
       "    .dataframe thead th {\n",
       "        text-align: right;\n",
       "    }\n",
       "</style>\n",
       "<table border=\"1\" class=\"dataframe\">\n",
       "  <thead>\n",
       "    <tr style=\"text-align: right;\">\n",
       "      <th></th>\n",
       "      <th>id</th>\n",
       "      <th>date</th>\n",
       "      <th>orders</th>\n",
       "      <th>spend</th>\n",
       "    </tr>\n",
       "  </thead>\n",
       "  <tbody>\n",
       "    <tr>\n",
       "      <th>0</th>\n",
       "      <td>00001</td>\n",
       "      <td>1997-01-01</td>\n",
       "      <td>1</td>\n",
       "      <td>11.77</td>\n",
       "    </tr>\n",
       "    <tr>\n",
       "      <th>1</th>\n",
       "      <td>00002</td>\n",
       "      <td>1997-01-12</td>\n",
       "      <td>1</td>\n",
       "      <td>12.00</td>\n",
       "    </tr>\n",
       "    <tr>\n",
       "      <th>2</th>\n",
       "      <td>00002</td>\n",
       "      <td>1997-01-12</td>\n",
       "      <td>5</td>\n",
       "      <td>77.00</td>\n",
       "    </tr>\n",
       "    <tr>\n",
       "      <th>3</th>\n",
       "      <td>00003</td>\n",
       "      <td>1997-01-02</td>\n",
       "      <td>2</td>\n",
       "      <td>20.76</td>\n",
       "    </tr>\n",
       "    <tr>\n",
       "      <th>4</th>\n",
       "      <td>00003</td>\n",
       "      <td>1997-03-30</td>\n",
       "      <td>2</td>\n",
       "      <td>20.76</td>\n",
       "    </tr>\n",
       "  </tbody>\n",
       "</table>\n",
       "</div>"
      ],
      "text/plain": [
       "      id       date orders  spend\n",
       "0  00001 1997-01-01      1  11.77\n",
       "1  00002 1997-01-12      1  12.00\n",
       "2  00002 1997-01-12      5  77.00\n",
       "3  00003 1997-01-02      2  20.76\n",
       "4  00003 1997-03-30      2  20.76"
      ]
     },
     "execution_count": 17,
     "metadata": {},
     "output_type": "execute_result"
    }
   ],
   "source": [
    "import pandas as pd\n",
    "import re\n",
    "from datetime import datetime\n",
    "\n",
    "# data from http://www.brucehardie.com/datasets\n",
    "data_path = \"CDNOW_master.txt\"\n",
    "\n",
    "orders_list = []\n",
    "with open(data_path) as f:\n",
    "    for line in f:\n",
    "        inner_list = [line.strip() for line in re.split('\\s+', line.strip())]\n",
    "        orders_list.append(inner_list)\n",
    "\n",
    "orders = pd.DataFrame(orders_list, columns = [\"id\", \"date\", \"orders\", \"spend\"])\n",
    "\n",
    "orders[\"date\"] = pd.to_datetime(orders[\"date\"])\n",
    "orders[\"spend\"] = orders[\"spend\"].astype(float)\n",
    "orders = orders[orders[\"spend\"] > 0]\n",
    "orders.head()"
   ]
  },
  {
   "cell_type": "markdown",
   "metadata": {},
   "source": [
    "# Analytic aggregate"
   ]
  },
  {
   "cell_type": "code",
   "execution_count": 2,
   "metadata": {},
   "outputs": [
    {
     "data": {
      "text/html": [
       "<div>\n",
       "<style scoped>\n",
       "    .dataframe tbody tr th:only-of-type {\n",
       "        vertical-align: middle;\n",
       "    }\n",
       "\n",
       "    .dataframe tbody tr th {\n",
       "        vertical-align: top;\n",
       "    }\n",
       "\n",
       "    .dataframe thead th {\n",
       "        text-align: right;\n",
       "    }\n",
       "</style>\n",
       "<table border=\"1\" class=\"dataframe\">\n",
       "  <thead>\n",
       "    <tr style=\"text-align: right;\">\n",
       "      <th></th>\n",
       "      <th>id</th>\n",
       "      <th>age</th>\n",
       "    </tr>\n",
       "  </thead>\n",
       "  <tbody>\n",
       "    <tr>\n",
       "      <th>0</th>\n",
       "      <td>00001</td>\n",
       "      <td>1.0</td>\n",
       "    </tr>\n",
       "    <tr>\n",
       "      <th>1</th>\n",
       "      <td>00002</td>\n",
       "      <td>1.0</td>\n",
       "    </tr>\n",
       "    <tr>\n",
       "      <th>2</th>\n",
       "      <td>00003</td>\n",
       "      <td>18.0</td>\n",
       "    </tr>\n",
       "    <tr>\n",
       "      <th>3</th>\n",
       "      <td>00004</td>\n",
       "      <td>12.0</td>\n",
       "    </tr>\n",
       "    <tr>\n",
       "      <th>4</th>\n",
       "      <td>00005</td>\n",
       "      <td>13.0</td>\n",
       "    </tr>\n",
       "  </tbody>\n",
       "</table>\n",
       "</div>"
      ],
      "text/plain": [
       "      id   age\n",
       "0  00001   1.0\n",
       "1  00002   1.0\n",
       "2  00003  18.0\n",
       "3  00004  12.0\n",
       "4  00005  13.0"
      ]
     },
     "execution_count": 2,
     "metadata": {},
     "output_type": "execute_result"
    }
   ],
   "source": [
    "from datetime import timedelta\n",
    "from numpy import ceil, maximum\n",
    "\n",
    "churned_after = timedelta(weeks = 12)\n",
    "end_date = orders[\"date\"].max()\n",
    "\n",
    "group_by_customer = orders.groupby(by = orders[\"id\"], as_index = False)\n",
    "customers = group_by_customer[\"date\"].agg(lambda x: (x.max() - x.min()))\n",
    "customers[\"age\"] = maximum(customers[\"date\"].apply(lambda x: ceil(x.days/30)),1.0)\n",
    "customers = customers.drop(columns = \"date\")\n",
    "customers.head()"
   ]
  },
  {
   "cell_type": "code",
   "execution_count": 3,
   "metadata": {},
   "outputs": [
    {
     "name": "stdout",
     "output_type": "stream",
     "text": [
      "123.04702903543307\n"
     ]
    }
   ],
   "source": [
    "lost = group_by_customer[\"date\"].max()[\"date\"].apply(lambda x: (end_date - x) > churned_after).sum()\n",
    "churn = lost / customers[\"age\"].sum()\n",
    "spend = orders[\"spend\"].sum() / customers[\"age\"].sum()\n",
    "clv_aa = spend/churn \n",
    "print(clv_aa)"
   ]
  },
  {
   "cell_type": "markdown",
   "metadata": {},
   "source": [
    "# Analytic by cohort"
   ]
  },
  {
   "cell_type": "code",
   "execution_count": 4,
   "metadata": {},
   "outputs": [
    {
     "data": {
      "text/html": [
       "<div>\n",
       "<style scoped>\n",
       "    .dataframe tbody tr th:only-of-type {\n",
       "        vertical-align: middle;\n",
       "    }\n",
       "\n",
       "    .dataframe tbody tr th {\n",
       "        vertical-align: top;\n",
       "    }\n",
       "\n",
       "    .dataframe thead th {\n",
       "        text-align: right;\n",
       "    }\n",
       "</style>\n",
       "<table border=\"1\" class=\"dataframe\">\n",
       "  <thead>\n",
       "    <tr style=\"text-align: right;\">\n",
       "      <th></th>\n",
       "      <th>id</th>\n",
       "      <th>age</th>\n",
       "      <th>spend</th>\n",
       "      <th>clv</th>\n",
       "    </tr>\n",
       "  </thead>\n",
       "  <tbody>\n",
       "    <tr>\n",
       "      <th>0</th>\n",
       "      <td>00001</td>\n",
       "      <td>1.0</td>\n",
       "      <td>11.77</td>\n",
       "      <td>71.642924</td>\n",
       "    </tr>\n",
       "    <tr>\n",
       "      <th>1</th>\n",
       "      <td>00002</td>\n",
       "      <td>1.0</td>\n",
       "      <td>89.00</td>\n",
       "      <td>541.734941</td>\n",
       "    </tr>\n",
       "    <tr>\n",
       "      <th>2</th>\n",
       "      <td>00003</td>\n",
       "      <td>18.0</td>\n",
       "      <td>156.46</td>\n",
       "      <td>52.908770</td>\n",
       "    </tr>\n",
       "    <tr>\n",
       "      <th>3</th>\n",
       "      <td>00004</td>\n",
       "      <td>12.0</td>\n",
       "      <td>100.50</td>\n",
       "      <td>50.977867</td>\n",
       "    </tr>\n",
       "    <tr>\n",
       "      <th>4</th>\n",
       "      <td>00005</td>\n",
       "      <td>13.0</td>\n",
       "      <td>385.61</td>\n",
       "      <td>180.551781</td>\n",
       "    </tr>\n",
       "  </tbody>\n",
       "</table>\n",
       "</div>"
      ],
      "text/plain": [
       "      id   age   spend         clv\n",
       "0  00001   1.0   11.77   71.642924\n",
       "1  00002   1.0   89.00  541.734941\n",
       "2  00003  18.0  156.46   52.908770\n",
       "3  00004  12.0  100.50   50.977867\n",
       "4  00005  13.0  385.61  180.551781"
      ]
     },
     "execution_count": 4,
     "metadata": {},
     "output_type": "execute_result"
    }
   ],
   "source": [
    "customers_ac = customers.merge(group_by_customer[\"spend\"].sum(), on = \"id\")\n",
    "customers_ac[\"clv\"] = customers_ac[\"spend\"] / customers_ac[\"age\"] / churn\n",
    "customers_ac.head()"
   ]
  },
  {
   "cell_type": "code",
   "execution_count": 5,
   "metadata": {},
   "outputs": [
    {
     "name": "stdout",
     "output_type": "stream",
     "text": [
      "174.65943598301126\n",
      "105.66874803149607\n"
     ]
    }
   ],
   "source": [
    "clv_ac = customers_ac[\"clv\"]\n",
    "print(clv_ac.mean()) # $172.95\n",
    "print(clv_ac.median())"
   ]
  },
  {
   "cell_type": "code",
   "execution_count": 6,
   "metadata": {},
   "outputs": [
    {
     "data": {
      "text/plain": [
       "<Figure size 640x480 with 1 Axes>"
      ]
     },
     "metadata": {},
     "output_type": "display_data"
    }
   ],
   "source": [
    "from matplotlib import pyplot as plt\n",
    "\n",
    "plt.hist(clv_ac, range = (0, 600))\n",
    "plt.title(\"Analytical Cohort CLV\")\n",
    "plt.xlabel(\"CLV ($)\")\n",
    "plt.savefig(\"clv_cohort_hist.png\", dpi = 300, bbox_inches = \"tight\")\n",
    "plt.show()"
   ]
  },
  {
   "cell_type": "markdown",
   "metadata": {},
   "source": [
    "# Predictive CLV model"
   ]
  },
  {
   "cell_type": "code",
   "execution_count": 7,
   "metadata": {},
   "outputs": [
    {
     "data": {
      "text/html": [
       "<div>\n",
       "<style scoped>\n",
       "    .dataframe tbody tr th:only-of-type {\n",
       "        vertical-align: middle;\n",
       "    }\n",
       "\n",
       "    .dataframe tbody tr th {\n",
       "        vertical-align: top;\n",
       "    }\n",
       "\n",
       "    .dataframe thead th {\n",
       "        text-align: right;\n",
       "    }\n",
       "</style>\n",
       "<table border=\"1\" class=\"dataframe\">\n",
       "  <thead>\n",
       "    <tr style=\"text-align: right;\">\n",
       "      <th></th>\n",
       "      <th>frequency</th>\n",
       "      <th>recency</th>\n",
       "      <th>T</th>\n",
       "      <th>monetary_value</th>\n",
       "    </tr>\n",
       "    <tr>\n",
       "      <th>id</th>\n",
       "      <th></th>\n",
       "      <th></th>\n",
       "      <th></th>\n",
       "      <th></th>\n",
       "    </tr>\n",
       "  </thead>\n",
       "  <tbody>\n",
       "    <tr>\n",
       "      <th>00001</th>\n",
       "      <td>0.0</td>\n",
       "      <td>0.0</td>\n",
       "      <td>545.0</td>\n",
       "      <td>0.000000</td>\n",
       "    </tr>\n",
       "    <tr>\n",
       "      <th>00002</th>\n",
       "      <td>0.0</td>\n",
       "      <td>0.0</td>\n",
       "      <td>534.0</td>\n",
       "      <td>0.000000</td>\n",
       "    </tr>\n",
       "    <tr>\n",
       "      <th>00003</th>\n",
       "      <td>5.0</td>\n",
       "      <td>511.0</td>\n",
       "      <td>544.0</td>\n",
       "      <td>27.140000</td>\n",
       "    </tr>\n",
       "    <tr>\n",
       "      <th>00004</th>\n",
       "      <td>3.0</td>\n",
       "      <td>345.0</td>\n",
       "      <td>545.0</td>\n",
       "      <td>23.723333</td>\n",
       "    </tr>\n",
       "    <tr>\n",
       "      <th>00005</th>\n",
       "      <td>10.0</td>\n",
       "      <td>367.0</td>\n",
       "      <td>545.0</td>\n",
       "      <td>35.628000</td>\n",
       "    </tr>\n",
       "  </tbody>\n",
       "</table>\n",
       "</div>"
      ],
      "text/plain": [
       "       frequency  recency      T  monetary_value\n",
       "id                                              \n",
       "00001        0.0      0.0  545.0        0.000000\n",
       "00002        0.0      0.0  534.0        0.000000\n",
       "00003        5.0    511.0  544.0       27.140000\n",
       "00004        3.0    345.0  545.0       23.723333\n",
       "00005       10.0    367.0  545.0       35.628000"
      ]
     },
     "execution_count": 7,
     "metadata": {},
     "output_type": "execute_result"
    }
   ],
   "source": [
    "from lifetimes.utils import summary_data_from_transaction_data\n",
    "\n",
    "data = summary_data_from_transaction_data(\n",
    "    orders, 'id', 'date', \n",
    "    monetary_value_col='spend', observation_period_end = end_date)\n",
    "data.head()"
   ]
  },
  {
   "cell_type": "code",
   "execution_count": 8,
   "metadata": {},
   "outputs": [
    {
     "data": {
      "text/plain": [
       "<lifetimes.BetaGeoFitter: fitted with 23502 subjects, a: 0.48, alpha: 41.99, b: 2.11, r: 0.27>"
      ]
     },
     "execution_count": 8,
     "metadata": {},
     "output_type": "execute_result"
    }
   ],
   "source": [
    "from lifetimes import BetaGeoFitter\n",
    "\n",
    "bgf = BetaGeoFitter(penalizer_coef=0.0)\n",
    "bgf.fit(data['frequency'], data['recency'], data['T'])"
   ]
  },
  {
   "cell_type": "code",
   "execution_count": 9,
   "metadata": {},
   "outputs": [
    {
     "data": {
      "text/html": [
       "<div>\n",
       "<style scoped>\n",
       "    .dataframe tbody tr th:only-of-type {\n",
       "        vertical-align: middle;\n",
       "    }\n",
       "\n",
       "    .dataframe tbody tr th {\n",
       "        vertical-align: top;\n",
       "    }\n",
       "\n",
       "    .dataframe thead th {\n",
       "        text-align: right;\n",
       "    }\n",
       "</style>\n",
       "<table border=\"1\" class=\"dataframe\">\n",
       "  <thead>\n",
       "    <tr style=\"text-align: right;\">\n",
       "      <th></th>\n",
       "      <th>frequency</th>\n",
       "      <th>recency</th>\n",
       "      <th>T</th>\n",
       "      <th>monetary_value</th>\n",
       "      <th>predicted_purchases</th>\n",
       "    </tr>\n",
       "    <tr>\n",
       "      <th>id</th>\n",
       "      <th></th>\n",
       "      <th></th>\n",
       "      <th></th>\n",
       "      <th></th>\n",
       "      <th></th>\n",
       "    </tr>\n",
       "  </thead>\n",
       "  <tbody>\n",
       "    <tr>\n",
       "      <th>00001</th>\n",
       "      <td>0.0</td>\n",
       "      <td>0.0</td>\n",
       "      <td>545.0</td>\n",
       "      <td>0.000000</td>\n",
       "      <td>2.474814</td>\n",
       "    </tr>\n",
       "    <tr>\n",
       "      <th>00002</th>\n",
       "      <td>0.0</td>\n",
       "      <td>0.0</td>\n",
       "      <td>534.0</td>\n",
       "      <td>0.000000</td>\n",
       "      <td>2.508305</td>\n",
       "    </tr>\n",
       "    <tr>\n",
       "      <th>00003</th>\n",
       "      <td>5.0</td>\n",
       "      <td>511.0</td>\n",
       "      <td>544.0</td>\n",
       "      <td>27.140000</td>\n",
       "      <td>34.399505</td>\n",
       "    </tr>\n",
       "    <tr>\n",
       "      <th>00004</th>\n",
       "      <td>3.0</td>\n",
       "      <td>345.0</td>\n",
       "      <td>545.0</td>\n",
       "      <td>23.723333</td>\n",
       "      <td>16.742080</td>\n",
       "    </tr>\n",
       "    <tr>\n",
       "      <th>00005</th>\n",
       "      <td>10.0</td>\n",
       "      <td>367.0</td>\n",
       "      <td>545.0</td>\n",
       "      <td>35.628000</td>\n",
       "      <td>25.828239</td>\n",
       "    </tr>\n",
       "  </tbody>\n",
       "</table>\n",
       "</div>"
      ],
      "text/plain": [
       "       frequency  recency      T  monetary_value  predicted_purchases\n",
       "id                                                                   \n",
       "00001        0.0      0.0  545.0        0.000000             2.474814\n",
       "00002        0.0      0.0  534.0        0.000000             2.508305\n",
       "00003        5.0    511.0  544.0       27.140000            34.399505\n",
       "00004        3.0    345.0  545.0       23.723333            16.742080\n",
       "00005       10.0    367.0  545.0       35.628000            25.828239"
      ]
     },
     "execution_count": 9,
     "metadata": {},
     "output_type": "execute_result"
    }
   ],
   "source": [
    "future_horizon = 10000\n",
    "data['predicted_purchases'] = bgf.predict(future_horizon, data['frequency'], data['recency'], data['T'])\n",
    "data.head()"
   ]
  },
  {
   "cell_type": "code",
   "execution_count": 11,
   "metadata": {},
   "outputs": [
    {
     "name": "stdout",
     "output_type": "stream",
     "text": [
      "36.177876991661236\n"
     ]
    }
   ],
   "source": [
    "from lifetimes import GammaGammaFitter\n",
    "\n",
    "returning_customers_summary = data[data['frequency'] > 0]\n",
    "\n",
    "ggf = GammaGammaFitter(penalizer_coef = 0)\n",
    "ggf.fit(\n",
    "    returning_customers_summary['frequency'],\n",
    "    returning_customers_summary['monetary_value'])\n",
    "transaction_spend = ggf.conditional_expected_average_profit(data['frequency'], data['monetary_value']).mean()\n",
    "print(transaction_spend)"
   ]
  },
  {
   "cell_type": "code",
   "execution_count": 12,
   "metadata": {},
   "outputs": [
    {
     "data": {
      "text/html": [
       "<div>\n",
       "<style scoped>\n",
       "    .dataframe tbody tr th:only-of-type {\n",
       "        vertical-align: middle;\n",
       "    }\n",
       "\n",
       "    .dataframe tbody tr th {\n",
       "        vertical-align: top;\n",
       "    }\n",
       "\n",
       "    .dataframe thead th {\n",
       "        text-align: right;\n",
       "    }\n",
       "</style>\n",
       "<table border=\"1\" class=\"dataframe\">\n",
       "  <thead>\n",
       "    <tr style=\"text-align: right;\">\n",
       "      <th></th>\n",
       "      <th>id</th>\n",
       "      <th>age</th>\n",
       "      <th>spend</th>\n",
       "      <th>predicted_purchases</th>\n",
       "      <th>clv</th>\n",
       "    </tr>\n",
       "  </thead>\n",
       "  <tbody>\n",
       "    <tr>\n",
       "      <th>23497</th>\n",
       "      <td>23566</td>\n",
       "      <td>1.0</td>\n",
       "      <td>36.00</td>\n",
       "      <td>2.756070</td>\n",
       "      <td>99.708756</td>\n",
       "    </tr>\n",
       "    <tr>\n",
       "      <th>23498</th>\n",
       "      <td>23567</td>\n",
       "      <td>1.0</td>\n",
       "      <td>20.97</td>\n",
       "      <td>2.756070</td>\n",
       "      <td>99.708756</td>\n",
       "    </tr>\n",
       "    <tr>\n",
       "      <th>23499</th>\n",
       "      <td>23568</td>\n",
       "      <td>1.0</td>\n",
       "      <td>121.70</td>\n",
       "      <td>1.315359</td>\n",
       "      <td>47.586905</td>\n",
       "    </tr>\n",
       "    <tr>\n",
       "      <th>23500</th>\n",
       "      <td>23569</td>\n",
       "      <td>1.0</td>\n",
       "      <td>25.74</td>\n",
       "      <td>2.756070</td>\n",
       "      <td>99.708756</td>\n",
       "    </tr>\n",
       "    <tr>\n",
       "      <th>23501</th>\n",
       "      <td>23570</td>\n",
       "      <td>1.0</td>\n",
       "      <td>94.08</td>\n",
       "      <td>1.847175</td>\n",
       "      <td>66.826865</td>\n",
       "    </tr>\n",
       "  </tbody>\n",
       "</table>\n",
       "</div>"
      ],
      "text/plain": [
       "          id  age   spend  predicted_purchases        clv\n",
       "23497  23566  1.0   36.00             2.756070  99.708756\n",
       "23498  23567  1.0   20.97             2.756070  99.708756\n",
       "23499  23568  1.0  121.70             1.315359  47.586905\n",
       "23500  23569  1.0   25.74             2.756070  99.708756\n",
       "23501  23570  1.0   94.08             1.847175  66.826865"
      ]
     },
     "execution_count": 12,
     "metadata": {},
     "output_type": "execute_result"
    }
   ],
   "source": [
    "customers_pm = customers_ac.join(data[\"predicted_purchases\"], on = \"id\", how = \"left\").drop(columns = \"clv\")\n",
    "customers_pm[\"clv\"] = customers_pm.apply(lambda x: x[\"predicted_purchases\"] * transaction_spend, axis = 1)\n",
    "customers_pm.tail()"
   ]
  },
  {
   "cell_type": "code",
   "execution_count": 13,
   "metadata": {},
   "outputs": [
    {
     "name": "stdout",
     "output_type": "stream",
     "text": [
      "424.09105292581245\n",
      "97.80953937859441\n"
     ]
    }
   ],
   "source": [
    "clv_pm = customers_pm[\"clv\"]\n",
    "print(clv_pm.mean())\n",
    "print(clv_pm.median())"
   ]
  },
  {
   "cell_type": "code",
   "execution_count": 14,
   "metadata": {},
   "outputs": [
    {
     "data": {
      "image/png": "[encoded data removed]",
      "text/plain": [
       "<Figure size 432x288 with 1 Axes>"
      ]
     },
     "metadata": {},
     "output_type": "display_data"
    }
   ],
   "source": [
    "plt.hist(clv_pm, range = (0,600))\n",
    "plt.title(\"Predictive Model CLV\")\n",
    "plt.xlabel(\"CLV ($)\")\n",
    "plt.savefig(\"clv_bgf_hist.png\", dpi = 300, bbox_inches = \"tight\")\n",
    "plt.show()"
   ]
  }
 ],
 "metadata": {
  "kernelspec": {
   "display_name": "Python 3",
   "language": "python",
   "name": "python3"
  },
  "language_info": {
   "codemirror_mode": {
    "name": "ipython",
    "version": 3
   },
   "file_extension": ".py",
   "mimetype": "text/x-python",
   "name": "python",
   "nbconvert_exporter": "python",
   "pygments_lexer": "ipython3",
   "version": "3.6.8"
  }
 },
 "nbformat": 4,
 "nbformat_minor": 2
}
